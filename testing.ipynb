{
 "cells": [
  {
   "cell_type": "code",
   "execution_count": 1,
   "metadata": {},
   "outputs": [],
   "source": [
    "import numpy as np\n",
    "import pandas as pd\n",
    "import matplotlib.pyplot as plt"
   ]
  },
  {
   "attachments": {},
   "cell_type": "markdown",
   "metadata": {},
   "source": [
    "### User input parameters\n",
    "- Number of kids:\t\t    **range: [n_lower,n_upper]**\n",
    "- Number of schools:\t\t**default 1 for now**\n",
    "- Bridges, tunnels, delays:\t**True/False**"
   ]
  },
  {
   "cell_type": "code",
   "execution_count": 2,
   "metadata": {},
   "outputs": [],
   "source": [
    "# min/max number of students\n",
    "n_students_lower, n_students_upper = 10, 15\n",
    "\n",
    "# number of schools\n",
    "n_schools = 1\n",
    "\n",
    "# whether to generate routes with bridges or tunnels\n",
    "has_bridge = False\n",
    "has_tunnel = False"
   ]
  },
  {
   "attachments": {},
   "cell_type": "markdown",
   "metadata": {},
   "source": [
    "# Randomly draw route-wide variables\n",
    "- number of students\n",
    "- school code + start/end time\n",
    "https://nces.ed.gov/pubs2020/2020006/images/2020006_1.png"
   ]
  },
  {
   "attachments": {},
   "cell_type": "markdown",
   "metadata": {},
   "source": [
    "### n_students"
   ]
  },
  {
   "cell_type": "code",
   "execution_count": 17,
   "metadata": {},
   "outputs": [],
   "source": [
    "#  functions to reverse-engineer the distribution for number of students from the given student counts\n",
    "\n",
    "def smooth_dist(n_student_freqs, k):\n",
    "    \"\"\"\n",
    "    Add-k smoothing, multiply percentages by number of kids (30000) in original hist\n",
    "    Add-k formula: P(n) = (count(n) + k) / (totalcount + kV), where V = number of buckets\n",
    "    \n",
    "    n_student_freqs: dict of {range (string) : probability (float)}\n",
    "    k: int\n",
    "    \"\"\"\n",
    "    total = 30000\n",
    "    V = len(n_student_freqs.values())\n",
    "    smoothed_values = [((n*total)+k)/(total+k*V) for n in n_student_freqs.values()]\n",
    "    smoothed = dict(zip(list(n_student_freqs.keys()), smoothed_values))\n",
    "    return smoothed\n",
    "\n",
    "def generate_n_students(freqs, k):\n",
    "    \"\"\"\n",
    "    Given freqs, choose a bucket of n-values according to probs.\n",
    "    Uniformly add 0 or 1 to the start of the chosen range and return the result.\n",
    "    \n",
    "    freqs: {range (string) : probability (float)}, use smoothed freqs\n",
    "    \"\"\"\n",
    "    smoothed = smooth_dist(freqs, k)\n",
    "    choices = list(smoothed.keys())\n",
    "    probs = list(smoothed.values())\n",
    "    n_range = np.random.choice(a=choices, p=probs)\n",
    "    n = int(n_range.split(',')[0])\n",
    "    delta = np.random.randint(0, 2)\n",
    "    return n + delta\n"
   ]
  },
  {
   "cell_type": "code",
   "execution_count": 18,
   "metadata": {},
   "outputs": [
    {
     "name": "stdout",
     "output_type": "stream",
     "text": [
      "n_students: 16\n"
     ]
    }
   ],
   "source": [
    "# define the frequency distribution and smooth by k\n",
    "n_student_freqs = {'0,1': 0,\n",
    "                   '2,3': .035,\n",
    "                   '4,5': .10,\n",
    "                   '6,7': .15,\n",
    "                   '8,9': .225,\n",
    "                   '10,11': .2425,\n",
    "                   '12,13': .1525,\n",
    "                   '14,15': .055,\n",
    "                   '16,17': .02,\n",
    "                   '18,19': .015,\n",
    "                   '20,21': 0.005,\n",
    "                   '22,23': 0}\n",
    "\n",
    "# generate n_students\n",
    "k = 5\n",
    "n_students = generate_n_students(n_student_freqs, k)\n",
    "print('n_students:', n_students)"
   ]
  },
  {
   "cell_type": "code",
   "execution_count": 19,
   "metadata": {},
   "outputs": [
    {
     "name": "stderr",
     "output_type": "stream",
     "text": [
      "/var/folders/d5/7kz6dchj5jx4f5bym9l_5y9c0000gn/T/ipykernel_6241/2658237937.py:6: UserWarning: FixedFormatter should only be used together with FixedLocator\n",
      "  ax1.set_xticklabels(list(n_student_freqs.keys()), rotation=45);\n",
      "/var/folders/d5/7kz6dchj5jx4f5bym9l_5y9c0000gn/T/ipykernel_6241/2658237937.py:10: UserWarning: FixedFormatter should only be used together with FixedLocator\n",
      "  ax2.set_xticklabels(list(n_student_freqs.keys()), rotation=45);\n"
     ]
    },
    {
     "data": {
      "image/png": "[encoded data removed]",
      "text/plain": [
       "<Figure size 1200x400 with 2 Axes>"
      ]
     },
     "metadata": {},
     "output_type": "display_data"
    }
   ],
   "source": [
    "# display unsmoothed and smoothed distribution\n",
    "fig, (ax1, ax2) = plt.subplots(1, 2, sharey=True, figsize=(12, 4))\n",
    "\n",
    "ax1.bar(height=n_student_freqs.values(), x=list(n_student_freqs.keys()))\n",
    "ax1.set_title('observed n_students distribution, unsmoothed')\n",
    "ax1.set_xticklabels(list(n_student_freqs.keys()), rotation=45);\n",
    "\n",
    "ax2.bar(height=list(smooth_dist(n_student_freqs, k).values()), x=list(n_student_freqs.keys()))\n",
    "ax2.set_title(f'observed n_students distribution, k={k} smoothed')\n",
    "ax2.set_xticklabels(list(n_student_freqs.keys()), rotation=45);"
   ]
  },
  {
   "attachments": {},
   "cell_type": "markdown",
   "metadata": {},
   "source": [
    "### start_time"
   ]
  },
  {
   "cell_type": "code",
   "execution_count": 20,
   "metadata": {},
   "outputs": [
    {
     "name": "stdout",
     "output_type": "stream",
     "text": [
      "start_time: 7:35\n"
     ]
    }
   ],
   "source": [
    "# estimate start time distribution by averaging \"City\", \"200-499 enrollment\",  and \"500-799 enrollment\" from chart above\n",
    "a_city = [10, 25, 39, 26]\n",
    "a_200 = [7, 35, 42, 17]\n",
    "a_500 = [7, 41, 44, 9]\n",
    "total = sum(a_city) + sum(a_200) + sum(a_500)\n",
    "p_avg = [sum(times)/total for times in zip(a_city, a_200, a_500)]\n",
    "t_choices = ['7:00', '7:30', '8:00', '8:30']\n",
    "\n",
    "# randomly select a time from the list of choices\n",
    "t = np.random.choice(a=t_choices, p=p_avg)\n",
    "\n",
    "# uniformly choose a multiple of 5 between 0 and 25 minutes to add to the chosen time increment\n",
    "m = 5 * np.random.randint(0, 6)\n",
    "start_time = t[0:2] + str(int(t[2:]) + m).rjust(2, '0')\n",
    "print('start_time:', start_time)"
   ]
  },
  {
   "attachments": {},
   "cell_type": "markdown",
   "metadata": {},
   "source": [
    "### Randomly generate students"
   ]
  },
  {
   "cell_type": "code",
   "execution_count": null,
   "metadata": {},
   "outputs": [],
   "source": []
  }
 ],
 "metadata": {
  "kernelspec": {
   "display_name": "cs5304",
   "language": "python",
   "name": "python3"
  },
  "language_info": {
   "codemirror_mode": {
    "name": "ipython",
    "version": 3
   },
   "file_extension": ".py",
   "mimetype": "text/x-python",
   "name": "python",
   "nbconvert_exporter": "python",
   "pygments_lexer": "ipython3",
   "version": "3.9.16"
  },
  "orig_nbformat": 4
 },
 "nbformat": 4,
 "nbformat_minor": 2
}
